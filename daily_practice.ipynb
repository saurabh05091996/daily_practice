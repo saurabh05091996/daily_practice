{
 "cells": [
  {
   "cell_type": "code",
   "id": "initial_id",
   "metadata": {
    "collapsed": true,
    "ExecuteTime": {
     "end_time": "2025-06-21T04:16:29.196812Z",
     "start_time": "2025-06-21T04:16:29.191718Z"
    }
   },
   "source": "print(\"Hello\")",
   "outputs": [
    {
     "name": "stdout",
     "output_type": "stream",
     "text": [
      "Hello\n"
     ]
    }
   ],
   "execution_count": 33
  },
  {
   "metadata": {
    "ExecuteTime": {
     "end_time": "2025-06-21T04:16:40.920620Z",
     "start_time": "2025-06-21T04:16:29.250978Z"
    }
   },
   "cell_type": "code",
   "source": [
    "name = input(\"What is your name?\")\n",
    "print(\"Hello\",{name})\n"
   ],
   "id": "4d116e52e750002",
   "outputs": [
    {
     "name": "stdout",
     "output_type": "stream",
     "text": [
      "Hello {'sourabh yadav'}\n"
     ]
    }
   ],
   "execution_count": 34
  },
  {
   "metadata": {
    "ExecuteTime": {
     "end_time": "2025-06-21T04:16:41.000358Z",
     "start_time": "2025-06-21T04:16:40.992724Z"
    }
   },
   "cell_type": "code",
   "source": [
    "y = 256\n",
    "x = 654\n",
    "add = x+y\n",
    "print(add)"
   ],
   "id": "7ed064769c001f98",
   "outputs": [
    {
     "name": "stdout",
     "output_type": "stream",
     "text": [
      "910\n"
     ]
    }
   ],
   "execution_count": 35
  },
  {
   "metadata": {
    "ExecuteTime": {
     "end_time": "2025-06-21T04:16:51.464384Z",
     "start_time": "2025-06-21T04:16:41.050686Z"
    }
   },
   "cell_type": "code",
   "source": [
    "name = input(\"What is your name?\")\n",
    "print(\"Hello\",name)\n",
    "age = input(\"What is your age?\")\n",
    "print(f\"you are {age} year old.\")"
   ],
   "id": "9b045b20107d9b6b",
   "outputs": [
    {
     "name": "stdout",
     "output_type": "stream",
     "text": [
      "Hello sourabh yadav\n",
      "you are 30 year old.\n"
     ]
    }
   ],
   "execution_count": 36
  },
  {
   "metadata": {
    "ExecuteTime": {
     "end_time": "2025-06-21T04:16:51.541165Z",
     "start_time": "2025-06-21T04:16:51.534993Z"
    }
   },
   "cell_type": "code",
   "source": [
    "x = 52\n",
    "print (type(x))"
   ],
   "id": "df21741920497381",
   "outputs": [
    {
     "name": "stdout",
     "output_type": "stream",
     "text": [
      "<class 'int'>\n"
     ]
    }
   ],
   "execution_count": 37
  },
  {
   "metadata": {
    "ExecuteTime": {
     "end_time": "2025-06-21T04:16:51.593106Z",
     "start_time": "2025-06-21T04:16:51.588958Z"
    }
   },
   "cell_type": "code",
   "source": [
    "y = \"hariom\"\n",
    "print(type(y))"
   ],
   "id": "d730d7492a3845a3",
   "outputs": [
    {
     "name": "stdout",
     "output_type": "stream",
     "text": [
      "<class 'str'>\n"
     ]
    }
   ],
   "execution_count": 38
  },
  {
   "metadata": {
    "ExecuteTime": {
     "end_time": "2025-06-21T04:16:51.645010Z",
     "start_time": "2025-06-21T04:16:51.639839Z"
    }
   },
   "cell_type": "code",
   "source": [
    "y = 0.65\n",
    "v= type(str(y))\n",
    "print(v)"
   ],
   "id": "4fefb6282eaa006",
   "outputs": [
    {
     "name": "stdout",
     "output_type": "stream",
     "text": [
      "<class 'str'>\n"
     ]
    }
   ],
   "execution_count": 39
  },
  {
   "metadata": {
    "ExecuteTime": {
     "end_time": "2025-06-21T04:16:51.681540Z",
     "start_time": "2025-06-21T04:16:51.677410Z"
    }
   },
   "cell_type": "code",
   "source": [
    "ram = 256\n",
    "lakhan = 286\n",
    "if ram >lakhan :\n",
    "    print(\"Ram is greater than Lakhan\")\n",
    "else:\n",
    "    print(\"Ram is less than Lakhan\")"
   ],
   "id": "5df17b27b302b879",
   "outputs": [
    {
     "name": "stdout",
     "output_type": "stream",
     "text": [
      "Ram is less than Lakhan\n"
     ]
    }
   ],
   "execution_count": 40
  },
  {
   "metadata": {
    "ExecuteTime": {
     "end_time": "2025-06-21T04:16:51.742469Z",
     "start_time": "2025-06-21T04:16:51.738742Z"
    }
   },
   "cell_type": "code",
   "source": [
    "length = 23\n",
    "breadth = 12\n",
    "area = length * breadth\n",
    "print(f\"The area of rectange is {area}cm2\")"
   ],
   "id": "784b403cc00df098",
   "outputs": [
    {
     "name": "stdout",
     "output_type": "stream",
     "text": [
      "The area of rectange is 276cm2\n"
     ]
    }
   ],
   "execution_count": 41
  },
  {
   "metadata": {
    "ExecuteTime": {
     "end_time": "2025-06-21T04:16:51.796177Z",
     "start_time": "2025-06-21T04:16:51.792445Z"
    }
   },
   "cell_type": "code",
   "source": [
    "length = 12\n",
    "breadth = 10\n",
    "height = 32\n",
    "volume= length * breadth * height\n",
    "print(f\"The volume of cuboid is {volume} cubic meters.\")"
   ],
   "id": "de7303f16ec18d53",
   "outputs": [
    {
     "name": "stdout",
     "output_type": "stream",
     "text": [
      "The volume of cuboid is 3840 cubic meters.\n"
     ]
    }
   ],
   "execution_count": 42
  },
  {
   "metadata": {
    "ExecuteTime": {
     "end_time": "2025-06-21T04:16:51.838149Z",
     "start_time": "2025-06-21T04:16:51.831042Z"
    }
   },
   "cell_type": "code",
   "source": "import math",
   "id": "99c6149ce14b75fd",
   "outputs": [],
   "execution_count": 43
  },
  {
   "metadata": {
    "ExecuteTime": {
     "end_time": "2025-06-21T04:16:51.872206Z",
     "start_time": "2025-06-21T04:16:51.867028Z"
    }
   },
   "cell_type": "code",
   "source": [
    "value_of_pi= math.pi\n",
    "print(value_of_pi)"
   ],
   "id": "ead8b7520bdf8086",
   "outputs": [
    {
     "name": "stdout",
     "output_type": "stream",
     "text": [
      "3.141592653589793\n"
     ]
    }
   ],
   "execution_count": 44
  },
  {
   "metadata": {
    "ExecuteTime": {
     "end_time": "2025-06-21T04:16:51.925528Z",
     "start_time": "2025-06-21T04:16:51.916977Z"
    }
   },
   "cell_type": "code",
   "source": [
    "radius = 15\n",
    "area = math.pi * radius ** 2\n",
    "print(area)"
   ],
   "id": "48da04ff4e33c62f",
   "outputs": [
    {
     "name": "stdout",
     "output_type": "stream",
     "text": [
      "706.8583470577034\n"
     ]
    }
   ],
   "execution_count": 45
  },
  {
   "metadata": {
    "ExecuteTime": {
     "end_time": "2025-06-21T04:16:51.965430Z",
     "start_time": "2025-06-21T04:16:51.961075Z"
    }
   },
   "cell_type": "code",
   "source": [
    "import math\n",
    "r = 12\n",
    "circumference = 2 * math.pi * r\n",
    "print(circumference)"
   ],
   "id": "809b9fb318798b9",
   "outputs": [
    {
     "name": "stdout",
     "output_type": "stream",
     "text": [
      "75.39822368615503\n"
     ]
    }
   ],
   "execution_count": 46
  },
  {
   "metadata": {
    "ExecuteTime": {
     "end_time": "2025-06-21T04:16:52.010041Z",
     "start_time": "2025-06-21T04:16:52.005740Z"
    }
   },
   "cell_type": "code",
   "source": [
    "a = 8\n",
    "volume_of_cube = a * a * a\n",
    "print(volume_of_cube)"
   ],
   "id": "fb5f3b117e1f6d41",
   "outputs": [
    {
     "name": "stdout",
     "output_type": "stream",
     "text": [
      "512\n"
     ]
    }
   ],
   "execution_count": 47
  },
  {
   "metadata": {
    "ExecuteTime": {
     "end_time": "2025-06-21T04:16:52.061898Z",
     "start_time": "2025-06-21T04:16:52.057451Z"
    }
   },
   "cell_type": "code",
   "source": [
    "y = 12\n",
    "x = 10\n",
    "z = 9\n",
    "total_surface_area = 2*(y*x + x*z+ y*z)\n",
    "print(total_surface_area)"
   ],
   "id": "69922a85fe0f7db9",
   "outputs": [
    {
     "name": "stdout",
     "output_type": "stream",
     "text": [
      "636\n"
     ]
    }
   ],
   "execution_count": 48
  },
  {
   "metadata": {
    "ExecuteTime": {
     "end_time": "2025-06-21T04:16:52.113044Z",
     "start_time": "2025-06-21T04:16:52.108500Z"
    }
   },
   "cell_type": "code",
   "source": [
    "a = [\"area\",\"volume\",\"radius\"]\n",
    "y = [2.3,1.2,16.4]\n",
    "a.append(y)\n",
    "print(a)\n"
   ],
   "id": "e85fc1a17c67093d",
   "outputs": [
    {
     "name": "stdout",
     "output_type": "stream",
     "text": [
      "['area', 'volume', 'radius', [2.3, 1.2, 16.4]]\n"
     ]
    }
   ],
   "execution_count": 49
  },
  {
   "metadata": {
    "ExecuteTime": {
     "end_time": "2025-06-21T04:16:52.164131Z",
     "start_time": "2025-06-21T04:16:52.159580Z"
    }
   },
   "cell_type": "code",
   "source": [
    "a = (12.3,14.2,15.3,45.1,36.2)\n",
    "b = [\"ajay\", \"rohit\", \"bhoora\", a]\n",
    "print(b)"
   ],
   "id": "52da55f946d41a33",
   "outputs": [
    {
     "name": "stdout",
     "output_type": "stream",
     "text": [
      "['ajay', 'rohit', 'bhoora', (12.3, 14.2, 15.3, 45.1, 36.2)]\n"
     ]
    }
   ],
   "execution_count": 50
  },
  {
   "metadata": {
    "ExecuteTime": {
     "end_time": "2025-06-21T04:16:52.211370Z",
     "start_time": "2025-06-21T04:16:52.207611Z"
    }
   },
   "cell_type": "code",
   "source": [
    "hrishab = True\n",
    "print(hrishab)"
   ],
   "id": "28776f8f9f8968a9",
   "outputs": [
    {
     "name": "stdout",
     "output_type": "stream",
     "text": [
      "True\n"
     ]
    }
   ],
   "execution_count": 51
  },
  {
   "metadata": {
    "ExecuteTime": {
     "end_time": "2025-06-21T04:17:04.774759Z",
     "start_time": "2025-06-21T04:16:52.248106Z"
    }
   },
   "cell_type": "code",
   "source": [
    "a = input(\"Enter your favourite color\")\n",
    "b= int(input(\"Enter your favourite number\"))\n",
    "print(f\"My favourite color is {a} and my favourite number is {b}\")"
   ],
   "id": "cff854daedfbf4cf",
   "outputs": [
    {
     "name": "stdout",
     "output_type": "stream",
     "text": [
      "My favourite color is blue and my favourite number is 54\n"
     ]
    }
   ],
   "execution_count": 52
  },
  {
   "metadata": {
    "ExecuteTime": {
     "end_time": "2025-06-21T04:17:04.855565Z",
     "start_time": "2025-06-21T04:17:04.846965Z"
    }
   },
   "cell_type": "code",
   "source": [
    "a  = [1,2,3,4,5]\n",
    "b =  [4,5,6,7,8]\n",
    "common_elements = list(set(a) & set(b))\n",
    "print(common_elements)"
   ],
   "id": "3ae1ef4789845dd2",
   "outputs": [
    {
     "name": "stdout",
     "output_type": "stream",
     "text": [
      "[4, 5]\n"
     ]
    }
   ],
   "execution_count": 53
  },
  {
   "metadata": {
    "ExecuteTime": {
     "end_time": "2025-06-21T04:17:04.895275Z",
     "start_time": "2025-06-21T04:17:04.889851Z"
    }
   },
   "cell_type": "code",
   "source": [
    "list1 = [1, 2, 3, 4, 5]\n",
    "list2 = [4, 5, 6, 7, 8]\n",
    "\n",
    "common_elements = list(set(list1) & set(list2))\n",
    "print(common_elements)  # Output: [4, 5]"
   ],
   "id": "3921c840189b2d21",
   "outputs": [
    {
     "name": "stdout",
     "output_type": "stream",
     "text": [
      "[4, 5]\n"
     ]
    }
   ],
   "execution_count": 54
  },
  {
   "metadata": {
    "ExecuteTime": {
     "end_time": "2025-06-21T04:17:04.963932Z",
     "start_time": "2025-06-21T04:17:04.959231Z"
    }
   },
   "cell_type": "code",
   "source": [
    "a  = [1,2,3,4,5]\n",
    "b =  [4,5,6,7,8]\n",
    "common_elements = list(set(a) & set(b))\n",
    "print(common_elements)"
   ],
   "id": "5a3afad3c7ca5347",
   "outputs": [
    {
     "name": "stdout",
     "output_type": "stream",
     "text": [
      "[4, 5]\n"
     ]
    }
   ],
   "execution_count": 55
  },
  {
   "metadata": {
    "ExecuteTime": {
     "end_time": "2025-06-21T04:17:05.002382Z",
     "start_time": "2025-06-21T04:17:04.994926Z"
    }
   },
   "cell_type": "code",
   "source": [
    "a = [12,23,42,56,41,25,25]\n",
    "b = [12,41,25,23,52,65,45]\n",
    "common_elements = [ x for x in a if x in b]\n",
    "print(common_elements)"
   ],
   "id": "e17779acb80c3bff",
   "outputs": [
    {
     "name": "stdout",
     "output_type": "stream",
     "text": [
      "[12, 23, 41, 25, 25]\n"
     ]
    }
   ],
   "execution_count": 56
  },
  {
   "metadata": {
    "ExecuteTime": {
     "end_time": "2025-06-21T04:17:05.041456Z",
     "start_time": "2025-06-21T04:17:05.035192Z"
    }
   },
   "cell_type": "code",
   "source": [
    "a = [12,23,42,56,41,25,27]\n",
    "b = [12,41,25,23,52,65,45]\n",
    "common_elements = list(filter(lambda x :x in b, a))\n",
    "print(common_elements)"
   ],
   "id": "5dbf9485d313280c",
   "outputs": [
    {
     "name": "stdout",
     "output_type": "stream",
     "text": [
      "[12, 23, 41, 25]\n"
     ]
    }
   ],
   "execution_count": 57
  },
  {
   "metadata": {
    "ExecuteTime": {
     "end_time": "2025-06-21T04:17:05.060958Z",
     "start_time": "2025-06-21T04:17:05.057496Z"
    }
   },
   "cell_type": "code",
   "source": "",
   "id": "489b8a97323075e2",
   "outputs": [],
   "execution_count": null
  },
  {
   "metadata": {
    "ExecuteTime": {
     "end_time": "2025-06-21T04:17:05.167219Z",
     "start_time": "2025-06-21T04:17:05.154720Z"
    }
   },
   "cell_type": "code",
   "source": "",
   "id": "c56766d34e149f42",
   "outputs": [],
   "execution_count": null
  },
  {
   "metadata": {},
   "cell_type": "code",
   "outputs": [],
   "execution_count": null,
   "source": "",
   "id": "57e15b84efb44b6f"
  }
 ],
 "metadata": {
  "kernelspec": {
   "display_name": "Python 3",
   "language": "python",
   "name": "python3"
  },
  "language_info": {
   "codemirror_mode": {
    "name": "ipython",
    "version": 2
   },
   "file_extension": ".py",
   "mimetype": "text/x-python",
   "name": "python",
   "nbconvert_exporter": "python",
   "pygments_lexer": "ipython2",
   "version": "2.7.6"
  }
 },
 "nbformat": 4,
 "nbformat_minor": 5
}
